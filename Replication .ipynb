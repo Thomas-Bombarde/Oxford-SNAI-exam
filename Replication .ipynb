{
 "cells": [
  {
   "cell_type": "code",
   "execution_count": 1,
   "id": "62b11294-79e0-4376-bc8c-d4cc7f5c5fd3",
   "metadata": {},
   "outputs": [],
   "source": [
    "import numpy as np\n",
    "import pandas as pd\n",
    "import os\n",
    "import networkx as nx\n",
    "import backboning_python3_networkx2_Coscia_AR as helpers # backboning https://www.michelecoscia.com/?page_id=287, altered by Alexandra\n",
    "from networkx.algorithms import bipartite\n",
    "import random\n",
    "import matplotlib.pyplot as plt\n",
    "import warnings # suppress python warnings \n",
    "warnings.filterwarnings(\"ignore\")"
   ]
  },
  {
   "cell_type": "code",
   "execution_count": null,
   "id": "5f3bda91-6e35-4064-8873-37fec93e37a6",
   "metadata": {
    "editable": true,
    "slideshow": {
     "slide_type": ""
    },
    "tags": []
   },
   "outputs": [],
   "source": [
    "# imported functions (thank you Alexandra)\n",
    "\n",
    "def visualise_graph(edge_table, node_size, labels = False, label_threshold = 6): \n",
    "    \n",
    "    G = nx.from_pandas_edgelist(edge_table, \"node1\", \"node2\")\n",
    "    # get degree\n",
    "    %%ai get degree\n",
    "    \n",
    "    # layout of graph\n",
    "    pos = nx.kamada_kawai_layout(G) # determine position\n",
    "    \n",
    "    nx.draw_networkx(G, \n",
    "                     with_labels = False, \n",
    "                     pos = pos,\n",
    "                     node_size=node_size,\n",
    "                     edge_color=\"lightgrey\")\n",
    "    \n",
    "    if labels:\n",
    "        # add labels to certain nodes\n",
    "        labels = {}\n",
    "        pos_select = {}\n",
    "        for node in G.nodes():\n",
    "            if G.degree()[node] >= label_threshold:\n",
    "                #set the node name as the key and the label as its value \n",
    "                labels[node] = node\n",
    "                pos_select[node] = pos[node]\n",
    "\n",
    "        pos_higher = {}\n",
    "        for k, v in pos_select.items():\n",
    "            if(v[1]>0):\n",
    "                pos_higher[k] = (v[0]-0.015, v[1]+0.015)\n",
    "            else:\n",
    "                pos_higher[k] = (v[0]-0.015, v[1]-0.015)\n",
    "    \n",
    "        nx.draw_networkx_labels(G,\n",
    "                                labels=labels, \n",
    "                                pos = pos_higher,\n",
    "                                font_size=12)\n",
    "    \n",
    "    plt.show()"
   ]
  },
  {
   "cell_type": "code",
   "execution_count": 3,
   "id": "df3a8d68-b6c3-4a52-aad9-23410a319f24",
   "metadata": {
    "editable": true,
    "slideshow": {
     "slide_type": ""
    },
    "tags": []
   },
   "outputs": [
    {
     "name": "stderr",
     "output_type": "stream",
     "text": [
      "UsageError: Line magic function `%ai` not found.\n"
     ]
    }
   ],
   "source": [
    "%ai get degree"
   ]
  },
  {
   "cell_type": "code",
   "execution_count": null,
   "id": "c2c87e29-3094-42e6-b6df-26ba66426675",
   "metadata": {},
   "outputs": [],
   "source": [
    "# Set the working directory\n",
    "current_directory = os.getcwd()\n",
    "directory = \"/Users/tombombo/Documents/Oxford SNAI\"\n",
    "os.chdir(directory)"
   ]
  },
  {
   "cell_type": "code",
   "execution_count": null,
   "id": "f1662e9a-fd92-4c02-8a97-119b200e7a5e",
   "metadata": {},
   "outputs": [],
   "source": [
    "data = pd.read_csv(\"output/data.csv\")"
   ]
  },
  {
   "cell_type": "code",
   "execution_count": null,
   "id": "212157ad-49f4-4980-bb51-5cf66c663848",
   "metadata": {},
   "outputs": [],
   "source": [
    "projects = list(set(data['project_ID']))\n",
    "skills_series = data['project_skills'].str.split(\" \")\n",
    "flattened_skills = [skill for sublist in skills_series for skill in sublist]\n",
    "skills = list(set(flattened_skills))\n",
    "print(f\"Number of unique skills: {len(skills)}\")\n",
    "print(f\"Number of unique projects: {len(projects)}\")"
   ]
  },
  {
   "cell_type": "markdown",
   "id": "67476404-2aff-42e1-941a-91d3707d948d",
   "metadata": {},
   "source": [
    "# Get the adjacency matrix, the edge table for the network in count and ratio based edge-weights\n"
   ]
  },
  {
   "cell_type": "code",
   "execution_count": 6,
   "id": "1423e0bc-97fa-4c19-a8c9-2106af99eede",
   "metadata": {},
   "outputs": [],
   "source": [
    "def build_edge_list(data):\n",
    "    \" I extract the edge list from the data\"\n",
    "    skill_project_map = {}\n",
    "    # Populate the dictionary\n",
    "    for index, row in data.iterrows():\n",
    "        project_id = row['project_ID']\n",
    "        project_skills = row['project_skills'].split()\n",
    "        for skill in project_skills:\n",
    "            if skill not in skill_project_map:\n",
    "                skill_project_map[skill] = set()\n",
    "            skill_project_map[skill].add(project_id)\n",
    "\n",
    "    # Convert the dictionary to edge list format\n",
    "    edge_list = [(skill, project_id) for skill, project_ids in skill_project_map.items() for project_id in project_ids]\n",
    "    return edge_list\n",
    "# Generate the edge list\n",
    "# get degrees\n",
    "\n",
    "edge_list = build_edge_list(data)\n",
    "with open('edge_list.txt', 'w') as f:\n",
    "    for edge in edge_list:\n",
    "        f.write(f\"{edge}\\n\")"
   ]
  },
  {
   "cell_type": "code",
   "execution_count": null,
   "id": "42e349a5-df8e-431b-8905-eb8b7a6628d7",
   "metadata": {},
   "outputs": [],
   "source": [
    "# read edge list into graph\n",
    "B = nx.Graph()\n",
    "B.add_nodes_from(projects, bipartite=0)\n",
    "B.add_nodes_from(skills, bipartite=1)\n",
    "B.add_edges_from(edge_list)\n",
    "\n",
    "G_ratios = nx.bipartite.weighted_projected_graph(B, nodes=skills, ratio=True)\n",
    "G_count = nx.bipartite.weighted_projected_graph(B, nodes=skills, ratio=False)"
   ]
  },
  {
   "cell_type": "code",
   "execution_count": 67,
   "id": "b701ab9b-bd05-441a-baae-f795d64e2dfd",
   "metadata": {},
   "outputs": [],
   "source": [
    "skills_adj_matrix_ratio = nx.adjacency_matrix(G_ratios)\n",
    "skills_adj_matrix_count = nx.adjacency_matrix(G_count)\n",
    "\n",
    "# Convert to DataFrame\n",
    "skills_adj_matrix_ratio_table = pd.DataFrame(skills_adj_matrix_ratio.toarray(), index=G_ratios.nodes(), columns=G_ratios.nodes())\n",
    "skills_adj_matrix_count_table = pd.DataFrame(skills_adj_matrix_count.toarray(), index=G_count.nodes(), columns=G_count.nodes())\n",
    " \n",
    "# Save to CSV\n",
    "skills_adj_matrix_ratio_table.to_csv('output/skills_adj_matrix_ratio.csv')\n",
    "skills_adj_matrix_count_table.to_csv('output/skills_adj_matrix_count.csv')"
   ]
  },
  {
   "cell_type": "code",
   "execution_count": 66,
   "id": "793e8cb2-084f-4887-9aa5-a91d68f359f1",
   "metadata": {},
   "outputs": [
    {
     "data": {
      "text/html": [
       "<div>\n",
       "<style scoped>\n",
       "    .dataframe tbody tr th:only-of-type {\n",
       "        vertical-align: middle;\n",
       "    }\n",
       "\n",
       "    .dataframe tbody tr th {\n",
       "        vertical-align: top;\n",
       "    }\n",
       "\n",
       "    .dataframe thead th {\n",
       "        text-align: right;\n",
       "    }\n",
       "</style>\n",
       "<table border=\"1\" class=\"dataframe\">\n",
       "  <thead>\n",
       "    <tr style=\"text-align: right;\">\n",
       "      <th></th>\n",
       "      <th>Source</th>\n",
       "      <th>Target</th>\n",
       "      <th>weight</th>\n",
       "    </tr>\n",
       "  </thead>\n",
       "  <tbody>\n",
       "    <tr>\n",
       "      <th>0</th>\n",
       "      <td>windows</td>\n",
       "      <td>android</td>\n",
       "      <td>24</td>\n",
       "    </tr>\n",
       "    <tr>\n",
       "      <th>1</th>\n",
       "      <td>windows</td>\n",
       "      <td>simulation</td>\n",
       "      <td>2</td>\n",
       "    </tr>\n",
       "    <tr>\n",
       "      <th>2</th>\n",
       "      <td>windows</td>\n",
       "      <td>automated-monitoring</td>\n",
       "      <td>2</td>\n",
       "    </tr>\n",
       "    <tr>\n",
       "      <th>3</th>\n",
       "      <td>windows</td>\n",
       "      <td>html</td>\n",
       "      <td>1</td>\n",
       "    </tr>\n",
       "    <tr>\n",
       "      <th>4</th>\n",
       "      <td>windows</td>\n",
       "      <td>gpo</td>\n",
       "      <td>2</td>\n",
       "    </tr>\n",
       "  </tbody>\n",
       "</table>\n",
       "</div>"
      ],
      "text/plain": [
       "    Source                Target  weight\n",
       "0  windows               android      24\n",
       "1  windows            simulation       2\n",
       "2  windows  automated-monitoring       2\n",
       "3  windows                  html       1\n",
       "4  windows                   gpo       2"
      ]
     },
     "execution_count": 66,
     "metadata": {},
     "output_type": "execute_result"
    }
   ],
   "source": [
    "edge_table = pd.DataFrame(G_count.edges(data=True), columns=['Source', 'Target', 'Attributes'])\n",
    "edge_table = pd.concat([edge_table.drop(['Attributes'], axis=1), edge_table['Attributes'].apply(pd.Series)], axis=1)\n",
    "edge_table.to_csv('output/edge_table.csv')\n",
    "edge_table.head()"
   ]
  },
  {
   "cell_type": "markdown",
   "id": "630fb4b8-9c19-4c16-b3b7-83d098cc5684",
   "metadata": {},
   "source": [
    "# backbone the network "
   ]
  },
  {
   "cell_type": "code",
   "execution_count": 107,
   "id": "375d0962-4d3c-4fb1-90fe-3dedea26ce07",
   "metadata": {},
   "outputs": [
    {
     "name": "stdout",
     "output_type": "stream",
     "text": [
      "4844\n"
     ]
    },
    {
     "data": {
      "text/plain": [
       "1651"
      ]
     },
     "execution_count": 107,
     "metadata": {},
     "output_type": "execute_result"
    }
   ],
   "source": [
    "# for simplicity I know work with a subsample of the data before applying the code to the entire dataset\n",
    "# Randomly select n nodes\n",
    "n = 500\n",
    "# Convert nodes to a list before sampling\n",
    "node_list = list(G_count.nodes())\n",
    "print(len(node_list))\n",
    "# Randomly select n nodes from the list\n",
    "nodes = random.sample(node_list, n)\n",
    "\n",
    "# Create the subgraph\n",
    "subgraph = G_count.subgraph(nodes)\n",
    "# Create the subgraph\n",
    "subgraph = G_count.subgraph(nodes)\n",
    "\n",
    "edge_table_subgraph = edge_table[\n",
    "    (edge_table['Source'].isin(subgraph.nodes())) & \n",
    "    (edge_table['Target'].isin(subgraph.nodes()))\n",
    "]\n",
    "\n",
    "edge_table_subgraph.rename(columns = {'weight' : 'count' ,\n",
    "                                     'Source' : 'node1',\n",
    "                                     'Target' : 'node2'}, inplace = True)\n",
    "edge_table_subgraph.head()\n",
    "len(edge_table_subgraph)"
   ]
  },
  {
   "cell_type": "markdown",
   "id": "453472f4-9980-4321-8612-95e94828603b",
   "metadata": {},
   "source": [
    "Instead, taking purely the project's skills"
   ]
  },
  {
   "cell_type": "code",
   "execution_count": null,
   "id": "fd516c08-d45c-4b30-8e0c-1098689797fe",
   "metadata": {
    "scrolled": true
   },
   "outputs": [],
   "source": [
    "# Given the birpartite network\n",
    "edge_table.rename(columns = {'weight' : 'count' ,\n",
    "                                     'Source' : 'node1',\n",
    "                                     'Target' : 'node2'}, inplace = True)\n",
    "visualise_graph(edge_table, \n",
    "                node_size= 2, \n",
    "                labels = True,  \n",
    "                label_threshold=50)"
   ]
  },
  {
   "cell_type": "code",
   "execution_count": 110,
   "id": "8a2b1fd8-f99a-4da7-a383-d4c6ab20b0ba",
   "metadata": {},
   "outputs": [
    {
     "name": "stdout",
     "output_type": "stream",
     "text": [
      "median: 1.0\n"
     ]
    },
    {
     "data": {
      "text/html": [
       "<div>\n",
       "<style scoped>\n",
       "    .dataframe tbody tr th:only-of-type {\n",
       "        vertical-align: middle;\n",
       "    }\n",
       "\n",
       "    .dataframe tbody tr th {\n",
       "        vertical-align: top;\n",
       "    }\n",
       "\n",
       "    .dataframe thead th {\n",
       "        text-align: right;\n",
       "    }\n",
       "</style>\n",
       "<table border=\"1\" class=\"dataframe\">\n",
       "  <thead>\n",
       "    <tr style=\"text-align: right;\">\n",
       "      <th></th>\n",
       "      <th>count</th>\n",
       "    </tr>\n",
       "  </thead>\n",
       "  <tbody>\n",
       "    <tr>\n",
       "      <th>count</th>\n",
       "      <td>1651.000000</td>\n",
       "    </tr>\n",
       "    <tr>\n",
       "      <th>mean</th>\n",
       "      <td>5.579649</td>\n",
       "    </tr>\n",
       "    <tr>\n",
       "      <th>std</th>\n",
       "      <td>18.896340</td>\n",
       "    </tr>\n",
       "    <tr>\n",
       "      <th>min</th>\n",
       "      <td>1.000000</td>\n",
       "    </tr>\n",
       "    <tr>\n",
       "      <th>25%</th>\n",
       "      <td>1.000000</td>\n",
       "    </tr>\n",
       "    <tr>\n",
       "      <th>50%</th>\n",
       "      <td>1.000000</td>\n",
       "    </tr>\n",
       "    <tr>\n",
       "      <th>75%</th>\n",
       "      <td>3.000000</td>\n",
       "    </tr>\n",
       "    <tr>\n",
       "      <th>max</th>\n",
       "      <td>328.000000</td>\n",
       "    </tr>\n",
       "  </tbody>\n",
       "</table>\n",
       "</div>"
      ],
      "text/plain": [
       "             count\n",
       "count  1651.000000\n",
       "mean      5.579649\n",
       "std      18.896340\n",
       "min       1.000000\n",
       "25%       1.000000\n",
       "50%       1.000000\n",
       "75%       3.000000\n",
       "max     328.000000"
      ]
     },
     "execution_count": 110,
     "metadata": {},
     "output_type": "execute_result"
    }
   ],
   "source": [
    "print(\"median:\", edge_table_subgraph[\"count\"].median())\n",
    "edge_table_subgraph.describe()"
   ]
  },
  {
   "cell_type": "code",
   "execution_count": 130,
   "id": "fa108c65-d214-4377-81ef-633acb6107b4",
   "metadata": {},
   "outputs": [
    {
     "name": "stderr",
     "output_type": "stream",
     "text": [
      "Calculating DF score...\n"
     ]
    },
    {
     "data": {
      "text/html": [
       "<div>\n",
       "<style scoped>\n",
       "    .dataframe tbody tr th:only-of-type {\n",
       "        vertical-align: middle;\n",
       "    }\n",
       "\n",
       "    .dataframe tbody tr th {\n",
       "        vertical-align: top;\n",
       "    }\n",
       "\n",
       "    .dataframe thead th {\n",
       "        text-align: right;\n",
       "    }\n",
       "</style>\n",
       "<table border=\"1\" class=\"dataframe\">\n",
       "  <thead>\n",
       "    <tr style=\"text-align: right;\">\n",
       "      <th></th>\n",
       "      <th>node1</th>\n",
       "      <th>node2</th>\n",
       "      <th>count</th>\n",
       "      <th>score</th>\n",
       "      <th>variance</th>\n",
       "      <th>sdev</th>\n",
       "    </tr>\n",
       "  </thead>\n",
       "  <tbody>\n",
       "    <tr>\n",
       "      <th>1650</th>\n",
       "      <td>hadoop</td>\n",
       "      <td>node.js</td>\n",
       "      <td>1</td>\n",
       "      <td>0.0</td>\n",
       "      <td>0.0</td>\n",
       "      <td>0.0</td>\n",
       "    </tr>\n",
       "    <tr>\n",
       "      <th>1320</th>\n",
       "      <td>steinberg-cubase</td>\n",
       "      <td>ableton-live</td>\n",
       "      <td>1</td>\n",
       "      <td>0.0</td>\n",
       "      <td>0.0</td>\n",
       "      <td>0.0</td>\n",
       "    </tr>\n",
       "    <tr>\n",
       "      <th>1296</th>\n",
       "      <td>sap-erp</td>\n",
       "      <td>inventory-management</td>\n",
       "      <td>1</td>\n",
       "      <td>0.0</td>\n",
       "      <td>0.0</td>\n",
       "      <td>0.0</td>\n",
       "    </tr>\n",
       "    <tr>\n",
       "      <th>1277</th>\n",
       "      <td>data-backup</td>\n",
       "      <td>digital-forensics</td>\n",
       "      <td>1</td>\n",
       "      <td>0.0</td>\n",
       "      <td>0.0</td>\n",
       "      <td>0.0</td>\n",
       "    </tr>\n",
       "    <tr>\n",
       "      <th>1276</th>\n",
       "      <td>trade-law</td>\n",
       "      <td>contract-manufacturing</td>\n",
       "      <td>1</td>\n",
       "      <td>0.0</td>\n",
       "      <td>0.0</td>\n",
       "      <td>0.0</td>\n",
       "    </tr>\n",
       "  </tbody>\n",
       "</table>\n",
       "</div>"
      ],
      "text/plain": [
       "                 node1                   node2  count  score  variance  sdev\n",
       "1650            hadoop                 node.js      1    0.0       0.0   0.0\n",
       "1320  steinberg-cubase            ableton-live      1    0.0       0.0   0.0\n",
       "1296           sap-erp    inventory-management      1    0.0       0.0   0.0\n",
       "1277       data-backup       digital-forensics      1    0.0       0.0   0.0\n",
       "1276         trade-law  contract-manufacturing      1    0.0       0.0   0.0"
      ]
     },
     "execution_count": 130,
     "metadata": {},
     "output_type": "execute_result"
    }
   ],
   "source": [
    "edge_table_disp_filter = helpers.disparity_filter(edge_table_subgraph, undirected = True)\n",
    "edge_table_disp_filter.sort_values(by = \"score\", ascending = True).head(5)"
   ]
  },
  {
   "cell_type": "code",
   "execution_count": 125,
   "id": "7215daee-cd6a-4cea-b8ba-fb32a55e08de",
   "metadata": {},
   "outputs": [
    {
     "data": {
      "image/png": "[encoded data removed]",
      "text/plain": [
       "<Figure size 500x300 with 1 Axes>"
      ]
     },
     "metadata": {},
     "output_type": "display_data"
    }
   ],
   "source": [
    "plt.figure(figsize = (5, 3))\n",
    "plt.hist(edge_table_subgraph[\"count\"], ec=\"white\")\n",
    "plt.yscale('log')\n",
    "plt.title(f\"Histogram of skill cooccurrences\")\n",
    "plt.xlabel('Skill occurences')\n",
    "plt.ylabel('count')\n",
    "plt.show()"
   ]
  },
  {
   "cell_type": "code",
   "execution_count": 135,
   "id": "c29b8603-f63f-405d-b4d7-386146ad8a7d",
   "metadata": {},
   "outputs": [
    {
     "data": {
      "text/html": [
       "<div>\n",
       "<style scoped>\n",
       "    .dataframe tbody tr th:only-of-type {\n",
       "        vertical-align: middle;\n",
       "    }\n",
       "\n",
       "    .dataframe tbody tr th {\n",
       "        vertical-align: top;\n",
       "    }\n",
       "\n",
       "    .dataframe thead th {\n",
       "        text-align: right;\n",
       "    }\n",
       "</style>\n",
       "<table border=\"1\" class=\"dataframe\">\n",
       "  <thead>\n",
       "    <tr style=\"text-align: right;\">\n",
       "      <th></th>\n",
       "      <th>node1</th>\n",
       "      <th>node2</th>\n",
       "      <th>count</th>\n",
       "      <th>score</th>\n",
       "    </tr>\n",
       "  </thead>\n",
       "  <tbody>\n",
       "    <tr>\n",
       "      <th>297</th>\n",
       "      <td>very-small-1-9-employees</td>\n",
       "      <td>database-development</td>\n",
       "      <td>2</td>\n",
       "      <td>0.220323</td>\n",
       "    </tr>\n",
       "    <tr>\n",
       "      <th>296</th>\n",
       "      <td>very-small-1-9-employees</td>\n",
       "      <td>system-configuration</td>\n",
       "      <td>2</td>\n",
       "      <td>0.220323</td>\n",
       "    </tr>\n",
       "    <tr>\n",
       "      <th>228</th>\n",
       "      <td>very-small-1-9-employees</td>\n",
       "      <td>inbound-marketing</td>\n",
       "      <td>2</td>\n",
       "      <td>0.220323</td>\n",
       "    </tr>\n",
       "    <tr>\n",
       "      <th>285</th>\n",
       "      <td>very-small-1-9-employees</td>\n",
       "      <td>sales-presentations</td>\n",
       "      <td>2</td>\n",
       "      <td>0.220323</td>\n",
       "    </tr>\n",
       "    <tr>\n",
       "      <th>229</th>\n",
       "      <td>very-small-1-9-employees</td>\n",
       "      <td>bluetooth-feature</td>\n",
       "      <td>2</td>\n",
       "      <td>0.220323</td>\n",
       "    </tr>\n",
       "  </tbody>\n",
       "</table>\n",
       "</div>"
      ],
      "text/plain": [
       "                        node1                 node2  count     score\n",
       "297  very-small-1-9-employees  database-development      2  0.220323\n",
       "296  very-small-1-9-employees  system-configuration      2  0.220323\n",
       "228  very-small-1-9-employees     inbound-marketing      2  0.220323\n",
       "285  very-small-1-9-employees   sales-presentations      2  0.220323\n",
       "229  very-small-1-9-employees     bluetooth-feature      2  0.220323"
      ]
     },
     "execution_count": 135,
     "metadata": {},
     "output_type": "execute_result"
    }
   ],
   "source": [
    "edge_table_disp_filter_thresholded = helpers.thresholding(edge_table_disp_filter, 1) #7, 10\n",
    "len(edge_table_disp_filter_thresholded)\n",
    "edge_table_disp_filter_thresholded.sort_values(by = \"score\", ascending = True).head(5)"
   ]
  },
  {
   "cell_type": "markdown",
   "id": "4f27e90b-4c06-4610-a2d2-ee39fcae49f1",
   "metadata": {},
   "source": [
    "## Compare the resulting degree distribution between unfiltered, disparity filtered, and noise-corrected graphs"
   ]
  },
  {
   "cell_type": "code",
   "execution_count": 136,
   "id": "015ab304-9561-4069-972b-0ca927c41a45",
   "metadata": {},
   "outputs": [
    {
     "data": {
      "image/png": "[encoded data removed]",
      "text/plain": [
       "<Figure size 500x300 with 1 Axes>"
      ]
     },
     "metadata": {},
     "output_type": "display_data"
    }
   ],
   "source": [
    "# check degree distribution\n",
    "plt.figure(figsize = (5, 3))\n",
    "\n",
    "# filtered graph\n",
    "G_disp_filter = nx.from_pandas_edgelist(edge_table_disp_filter_thresholded, \"node1\", \"node2\", edge_attr=True)\n",
    "degrees_disp_filter = list(dict(G_disp_filter.degree).values())\n",
    "\n",
    "# original graph\n",
    "G = nx.from_pandas_edgelist(edge_table_subgraph, \"node1\", \"node2\", edge_attr=True)\n",
    "degrees = list(dict(subgraph.degree).values())\n",
    "\n",
    "plt.hist([degrees, degrees_disp_filter], \n",
    "         bins = 15, \n",
    "         label=['unfiltered', 'filtered'], \n",
    "         ec=\"white\", \n",
    "         color = [\"lightblue\", \"steelblue\"])\n",
    "plt.legend(loc='upper right')\n",
    "plt.yscale('log')\n",
    "plt.title(f\"Distribution of degrees before and after applying the disparity filter\")\n",
    "plt.xlabel('degree')\n",
    "plt.ylabel('count')\n",
    "plt.show()"
   ]
  },
  {
   "cell_type": "code",
   "execution_count": null,
   "id": "08c9a6a5-3eec-453f-bb28-c4bd107e772a",
   "metadata": {},
   "outputs": [],
   "source": [
    "visualise_graph(edge_table_disp_filter_thresholded, \n",
    "                node_size= 2, \n",
    "                labels = True,  \n",
    "                label_threshold=50)"
   ]
  }
 ],
 "metadata": {
  "kernelspec": {
   "display_name": "Python 3 (ipykernel)",
   "language": "python",
   "name": "python3"
  },
  "language_info": {
   "codemirror_mode": {
    "name": "ipython",
    "version": 3
   },
   "file_extension": ".py",
   "mimetype": "text/x-python",
   "name": "python",
   "nbconvert_exporter": "python",
   "pygments_lexer": "ipython3",
   "version": "3.11.8"
  }
 },
 "nbformat": 4,
 "nbformat_minor": 5
}
